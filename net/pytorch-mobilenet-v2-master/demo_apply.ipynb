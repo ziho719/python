{
 "cells": [
  {
   "cell_type": "code",
   "execution_count": 3,
   "metadata": {},
   "outputs": [],
   "source": [
    "import torch\n",
    "import torchvision\n",
    "import torchvision.transforms as transforms\n",
    "import torchvision.datasets as datasets\n",
    "\n",
    "from torch.utils.data import Dataset, DataLoader\n",
    "from torchvision import transforms, utils"
   ]
  },
  {
   "cell_type": "code",
   "execution_count": 8,
   "metadata": {},
   "outputs": [
    {
     "name": "stdout",
     "output_type": "stream",
     "text": [
      "<generator object Module.parameters at 0x0000019484675048>\n",
      "cuda\n"
     ]
    },
    {
     "data": {
      "text/plain": [
       "True"
      ]
     },
     "execution_count": 8,
     "metadata": {},
     "output_type": "execute_result"
    }
   ],
   "source": [
    "from MobileNetV2 import MobileNetV2\n",
    "model = MobileNetV2(n_class=2)\n",
    "\n",
    "DEVICE = torch.device(\"cuda\" if torch.cuda.is_available() else \"cpu\")\n",
    "PATH=r'C:\\Users\\hzhao\\Desktop\\python\\net\\pytorch-mobilenet-v2-master\\demo_dict.pt'\n",
    "print(model.parameters())\n",
    "model.load_state_dict(torch.load(PATH))\n",
    "model.to(DEVICE)\n",
    "model.eval()\n",
    "print(DEVICE)\n",
    "torch.cuda.is_available()"
   ]
  },
  {
   "cell_type": "code",
   "execution_count": 25,
   "metadata": {},
   "outputs": [],
   "source": [
    "PATH=r'C:\\Users\\hzhao\\Desktop\\python\\net\\pytorch-mobilenet-v2-master\\demo_full.pt'\n",
    "model=torch.load(PATH)"
   ]
  },
  {
   "cell_type": "code",
   "execution_count": 5,
   "metadata": {},
   "outputs": [],
   "source": [
    "data_dir=r'C:\\Users\\hzhao\\Desktop\\python\\net\\celebA dataset\\img_align_celeba'\n",
    "part_dir=r'C:\\Users\\hzhao\\Desktop\\python\\net\\celebA dataset\\list_eval_partition.txt'\n",
    "identity_dir=r'C:\\Users\\hzhao\\Desktop\\python\\net\\celebA dataset\\identity_CelebA.txt'\n",
    "attr_dir=r'C:\\Users\\hzhao\\Desktop\\python\\net\\celebA dataset\\list_attr_celeba.txt'\n",
    "\n",
    "import os\n",
    "with open(identity_dir, 'r') as f:\n",
    "    lines = f.readlines()\n",
    "    img_list = [os.path.join(data_dir, i.split()[0]) for i in lines]\n",
    "    label_list = [i.split()[1] for i in lines]\n",
    "with open(part_dir, 'r') as f:\n",
    "    lines = f.readlines()\n",
    "    part_list = [i.split()[1] for i in lines]\n",
    "with open(attr_dir, 'r') as f:\n",
    "    lines = f.readlines()\n",
    "    lines=lines[2:]\n",
    "    attr_list=[i.split()[21] for i in lines]\n",
    "    \n",
    "transform=transforms.Compose(\n",
    "    [transforms.Resize(224),\n",
    "     transforms.CenterCrop(224),\n",
    "    transforms.ToTensor(),\n",
    "     transforms.Normalize(mean=[0.485, 0.456, 0.406],std=[0.229, 0.224, 0.225])])"
   ]
  },
  {
   "cell_type": "code",
   "execution_count": 22,
   "metadata": {},
   "outputs": [],
   "source": [
    "from PIL import Image\n",
    "\n",
    "def default_loader(img):\n",
    "    return Image.open(img)\n",
    "\n",
    "class vali_set(Dataset):\n",
    "    def __init__(self):\n",
    "        self.img_list=[]\n",
    "        self.label_list=[]\n",
    "        self.loader=default_loader\n",
    "        for i in range(len(img_list)):\n",
    "            if int(part_list[i])==2 and int(label_list[i])<6000:\n",
    "                self.img_list.append(img_list[i])\n",
    "                self.label_list.append(1 if int(attr_list[i])==1 else 0)\n",
    "    def __getitem__(self,index):\n",
    "        img_path=self.img_list[index]\n",
    "        label=self.label_list[index]\n",
    "        img=self.loader(img_path)\n",
    "        img=transform(img)\n",
    "        \n",
    "        return img,label\n",
    "    def __len__(self):\n",
    "        return len(self.label_list)"
   ]
  },
  {
   "cell_type": "code",
   "execution_count": 23,
   "metadata": {},
   "outputs": [
    {
     "name": "stdout",
     "output_type": "stream",
     "text": [
      "4268\n"
     ]
    }
   ],
   "source": [
    "vali_dataset=vali_set()\n",
    "vali_loader=DataLoader(vali_dataset,batch_size=4)\n",
    "print(len(vali_dataset))"
   ]
  },
  {
   "cell_type": "code",
   "execution_count": 20,
   "metadata": {},
   "outputs": [],
   "source": [
    "import torch.nn as nn\n",
    "import torch.nn.functional as F\n",
    "import torch.optim as optim\n",
    "\n",
    "\n",
    "criterion = nn.CrossEntropyLoss()\n",
    "optimizer = optim.Adam(model.parameters())\n",
    "\n",
    "def vali(model, device, vali_loader):\n",
    "    model.eval()\n",
    "    vali_loss = 0\n",
    "    correct = 0\n",
    "    with torch.no_grad():\n",
    "        for data, target in vali_loader:\n",
    "            data, target = data.to(device), target.to(device)\n",
    "            output = model(data)\n",
    "            vali_loss += criterion(output, target).item() # 将一批的损失相加\n",
    "            pred = output.max(1, keepdim=True)[1] # 找到概率最大的下标\n",
    "            correct += pred.eq(target.view_as(pred)).sum().item()\n",
    "\n",
    "    vali_loss /= len(vali_loader.dataset)\n",
    "    print('\\nvali set: Average loss: {:.4f}, Accuracy: {}/{} ({:.0f}%)\\n'.format(\n",
    "        vali_loss, correct, len(vali_loader.dataset),\n",
    "        100. * correct / len(vali_loader.dataset)))"
   ]
  },
  {
   "cell_type": "code",
   "execution_count": 26,
   "metadata": {},
   "outputs": [
    {
     "name": "stdout",
     "output_type": "stream",
     "text": [
      "\n",
      "vali set: Average loss: 0.0344, Accuracy: 4020/4268 (94%)\n",
      "\n"
     ]
    }
   ],
   "source": [
    "\n",
    "vali(model, DEVICE, vali_loader)"
   ]
  },
  {
   "cell_type": "code",
   "execution_count": null,
   "metadata": {},
   "outputs": [],
   "source": []
  }
 ],
 "metadata": {
  "kernelspec": {
   "display_name": "py3(myenv)",
   "language": "python",
   "name": "base"
  },
  "language_info": {
   "codemirror_mode": {
    "name": "ipython",
    "version": 3
   },
   "file_extension": ".py",
   "mimetype": "text/x-python",
   "name": "python",
   "nbconvert_exporter": "python",
   "pygments_lexer": "ipython3",
   "version": "3.7.1"
  }
 },
 "nbformat": 4,
 "nbformat_minor": 2
}
